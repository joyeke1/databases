{
 "cells": [
  {
   "cell_type": "code",
   "execution_count": null,
   "id": "8b6f0204-b92a-4ca9-a989-aaa8edfb5ef7",
   "metadata": {},
   "outputs": [],
   "source": [
    "# project 1"
   ]
  },
  {
   "cell_type": "code",
   "execution_count": 1,
   "id": "07ebbfbc-75ab-4775-8d90-600ed4ec3ced",
   "metadata": {},
   "outputs": [
    {
     "name": "stdout",
     "output_type": "stream",
     "text": [
      "env: INSTANCE=my\n"
     ]
    }
   ],
   "source": [
    "%env INSTANCE=my"
   ]
  },
  {
   "cell_type": "code",
   "execution_count": 6,
   "id": "f0d6ec3b-c620-46d4-97b7-af5977526540",
   "metadata": {},
   "outputs": [
    {
     "name": "stdout",
     "output_type": "stream",
     "text": [
      "Copying gs://cs327e-open-access-2/sakila.zip...\n",
      "/ [1 files][786.4 KiB/786.4 KiB]                                                \n",
      "Operation completed over 1 objects/786.4 KiB.                                    \n"
     ]
    }
   ],
   "source": [
    "!gsutil cp gs://cs327e-open-access-2/sakila.zip ."
   ]
  },
  {
   "cell_type": "code",
   "execution_count": null,
   "id": "4ea7223b-29cc-40d3-86fa-abd0408f8b3c",
   "metadata": {},
   "outputs": [],
   "source": [
    "!unzip mysql_college.zip"
   ]
  },
  {
   "cell_type": "code",
   "execution_count": 5,
   "id": "1f1e927b-7b47-4f0e-b584-aa0df1598068",
   "metadata": {},
   "outputs": [],
   "source": [
    "!mysql < /home/jupyter/sakila/sakila-database.sql"
   ]
  },
  {
   "cell_type": "code",
   "execution_count": 9,
   "id": "64cb2b29-59a9-4ccf-b41d-f1f0f463eff0",
   "metadata": {},
   "outputs": [
    {
     "name": "stdout",
     "output_type": "stream",
     "text": [
      "ERROR 1062 (23000) at line 44: Duplicate entry '1' for key 'actor.PRIMARY'\n"
     ]
    }
   ],
   "source": [
    "!mysql < /home/jupyter/sakila/sakila-data.sql"
   ]
  },
  {
   "cell_type": "code",
   "execution_count": 10,
   "id": "2a8cdb5b-6a5a-4a47-a195-f4612e03a64f",
   "metadata": {},
   "outputs": [
    {
     "name": "stdout",
     "output_type": "stream",
     "text": [
      "+----------------------------+\n",
      "| Tables_in_sakila           |\n",
      "+----------------------------+\n",
      "| actor                      |\n",
      "| actor_info                 |\n",
      "| address                    |\n",
      "| category                   |\n",
      "| city                       |\n",
      "| country                    |\n",
      "| customer                   |\n",
      "| customer_list              |\n",
      "| film                       |\n",
      "| film_actor                 |\n",
      "| film_category              |\n",
      "| film_list                  |\n",
      "| film_text                  |\n",
      "| inventory                  |\n",
      "| language                   |\n",
      "| nicer_but_slower_film_list |\n",
      "| payment                    |\n",
      "| rental                     |\n",
      "| sales_by_film_category     |\n",
      "| sales_by_store             |\n",
      "| staff                      |\n",
      "| staff_list                 |\n",
      "| store                      |\n",
      "+----------------------------+\n"
     ]
    }
   ],
   "source": [
    "!mysql sakila -e \"show tables\""
   ]
  },
  {
   "cell_type": "code",
   "execution_count": 5,
   "id": "47da5b46-c6d4-4ce4-aa9f-781eb02118fe",
   "metadata": {},
   "outputs": [
    {
     "name": "stdout",
     "output_type": "stream",
     "text": [
      "+----------+\n",
      "| count(*) |\n",
      "+----------+\n",
      "|      200 |\n",
      "+----------+\n"
     ]
    }
   ],
   "source": [
    "!mysql sakila -e \"select count(*) from actor\""
   ]
  },
  {
   "cell_type": "code",
   "execution_count": 6,
   "id": "5a9ae941-21de-49ee-a18e-a4d541a81ab1",
   "metadata": {},
   "outputs": [
    {
     "name": "stdout",
     "output_type": "stream",
     "text": [
      "+----------+\n",
      "| count(*) |\n",
      "+----------+\n",
      "|      200 |\n",
      "+----------+\n"
     ]
    }
   ],
   "source": [
    "!mysql sakila -e \"select count(*) from actor_info\""
   ]
  },
  {
   "cell_type": "code",
   "execution_count": 7,
   "id": "881cc3df-7690-4807-8eaa-b23fd955f625",
   "metadata": {},
   "outputs": [
    {
     "name": "stdout",
     "output_type": "stream",
     "text": [
      "+----------+\n",
      "| count(*) |\n",
      "+----------+\n",
      "|      603 |\n",
      "+----------+\n"
     ]
    }
   ],
   "source": [
    "!mysql sakila -e \"select count(*) from address\""
   ]
  },
  {
   "cell_type": "code",
   "execution_count": 8,
   "id": "d5e2578a-ec40-457c-9a90-c7339525c2b5",
   "metadata": {},
   "outputs": [
    {
     "name": "stdout",
     "output_type": "stream",
     "text": [
      "+----------+\n",
      "| count(*) |\n",
      "+----------+\n",
      "|       16 |\n",
      "+----------+\n"
     ]
    }
   ],
   "source": [
    "!mysql sakila -e \"select count(*) from category\""
   ]
  },
  {
   "cell_type": "code",
   "execution_count": 9,
   "id": "73df72a1-a28e-49ff-a085-7f94e590dcab",
   "metadata": {},
   "outputs": [
    {
     "name": "stdout",
     "output_type": "stream",
     "text": [
      "+----------+\n",
      "| count(*) |\n",
      "+----------+\n",
      "|      600 |\n",
      "+----------+\n"
     ]
    }
   ],
   "source": [
    "!mysql sakila -e \"select count(*) from city\""
   ]
  },
  {
   "cell_type": "code",
   "execution_count": 10,
   "id": "fcd6d845-2a7f-4984-9190-fdd6c853dc09",
   "metadata": {},
   "outputs": [
    {
     "name": "stdout",
     "output_type": "stream",
     "text": [
      "+----------+------------+--------------+\n",
      "| actor_id | first_name | last_name    |\n",
      "+----------+------------+--------------+\n",
      "|        1 | PENELOPE   | GUINESS      |\n",
      "|        2 | NICK       | WAHLBERG     |\n",
      "|        3 | ED         | CHASE        |\n",
      "|        4 | JENNIFER   | DAVIS        |\n",
      "|        5 | JOHNNY     | LOLLOBRIGIDA |\n",
      "|        6 | BETTE      | NICHOLSON    |\n",
      "|        7 | GRACE      | MOSTEL       |\n",
      "|        8 | MATTHEW    | JOHANSSON    |\n",
      "|        9 | JOE        | SWANK        |\n",
      "|       10 | CHRISTIAN  | GABLE        |\n",
      "|       11 | ZERO       | CAGE         |\n",
      "|       12 | KARL       | BERRY        |\n",
      "|       13 | UMA        | WOOD         |\n",
      "|       14 | VIVIEN     | BERGEN       |\n",
      "+----------+------------+--------------+\n"
     ]
    }
   ],
   "source": [
    "!mysql sakila -e \"select actor_id, first_name, last_name from actor where actor_id between 1 and 14\""
   ]
  },
  {
   "cell_type": "code",
   "execution_count": 17,
   "id": "70aeec8c-b381-4c9f-90c8-483107a11aef",
   "metadata": {},
   "outputs": [
    {
     "name": "stdout",
     "output_type": "stream",
     "text": [
      "+---------+--------------------+------------+\n",
      "| city_id | city               | country_id |\n",
      "+---------+--------------------+------------+\n",
      "|       1 | A Corua (La Corua) |         87 |\n",
      "|       2 | Abha               |         82 |\n",
      "|       3 | Abu Dhabi          |        101 |\n",
      "|       4 | Acua               |         60 |\n",
      "|       5 | Adana              |         97 |\n",
      "|       6 | Addis Abeba        |         31 |\n",
      "|       7 | Aden               |        107 |\n",
      "+---------+--------------------+------------+\n"
     ]
    }
   ],
   "source": [
    "!mysql sakila -e \"select city_id, city, country_id from city where city_id <= 7\""
   ]
  },
  {
   "cell_type": "code",
   "execution_count": 19,
   "id": "3771ff2d-32dd-48f6-a722-3f3d7c69afd2",
   "metadata": {},
   "outputs": [
    {
     "name": "stdout",
     "output_type": "stream",
     "text": [
      "+---------+----------------------+-----------------------------------------------------------------------------------------------------------------------+\n",
      "| film_id | title                | description                                                                                                           |\n",
      "+---------+----------------------+-----------------------------------------------------------------------------------------------------------------------+\n",
      "|       3 | ADAPTATION HOLES     | A Astounding Reflection of a Lumberjack And a Car who must Sink a Lumberjack in A Baloon Factory                      |\n",
      "|       4 | AFFAIR PREJUDICE     | A Fanciful Documentary of a Frisbee And a Lumberjack who must Chase a Monkey in A Shark Tank                          |\n",
      "|       5 | AFRICAN EGG          | A Fast-Paced Documentary of a Pastry Chef And a Dentist who must Pursue a Forensic Psychologist in The Gulf of Mexico |\n",
      "|       6 | AGENT TRUMAN         | A Intrepid Panorama of a Robot And a Boy who must Escape a Sumo Wrestler in Ancient China                             |\n",
      "|       7 | AIRPLANE SIERRA      | A Touching Saga of a Hunter And a Butler who must Discover a Butler in A Jet Boat                                     |\n",
      "|       8 | AIRPORT POLLOCK      | A Epic Tale of a Moose And a Girl who must Confront a Monkey in Ancient India                                         |\n",
      "|       9 | ALABAMA DEVIL        | A Thoughtful Panorama of a Database Administrator And a Mad Scientist who must Outgun a Mad Scientist in A Jet Boat   |\n",
      "|      10 | ALADDIN CALENDAR     | A Action-Packed Tale of a Man And a Lumberjack who must Reach a Feminist in Ancient China                             |\n",
      "|      11 | ALAMO VIDEOTAPE      | A Boring Epistle of a Butler And a Cat who must Fight a Pastry Chef in A MySQL Convention                             |\n",
      "|      12 | ALASKA PHANTOM       | A Fanciful Saga of a Hunter And a Pastry Chef who must Vanquish a Boy in Australia                                    |\n",
      "|      13 | ALI FOREVER          | A Action-Packed Drama of a Dentist And a Crocodile who must Battle a Feminist in The Canadian Rockies                 |\n",
      "|      14 | ALICE FANTASIA       | A Emotional Drama of a A Shark And a Database Administrator who must Vanquish a Pioneer in Soviet Georgia             |\n",
      "|      15 | ALIEN CENTER         | A Brilliant Drama of a Cat And a Mad Scientist who must Battle a Feminist in A MySQL Convention                       |\n",
      "|      16 | ALLEY EVOLUTION      | A Fast-Paced Drama of a Robot And a Composer who must Battle a Astronaut in New Orleans                               |\n",
      "|      17 | ALONE TRIP           | A Fast-Paced Character Study of a Composer And a Dog who must Outgun a Boat in An Abandoned Fun House                 |\n",
      "|      18 | ALTER VICTORY        | A Thoughtful Drama of a Composer And a Feminist who must Meet a Secret Agent in The Canadian Rockies                  |\n",
      "|      19 | AMADEUS HOLY         | A Emotional Display of a Pioneer And a Technical Writer who must Battle a Man in A Baloon                             |\n",
      "|      20 | AMELIE HELLFIGHTERS  | A Boring Drama of a Woman And a Squirrel who must Conquer a Student in A Baloon                                       |\n",
      "|      21 | AMERICAN CIRCUS      | A Insightful Drama of a Girl And a Astronaut who must Face a Database Administrator in A Shark Tank                   |\n",
      "|      22 | AMISTAD MIDSUMMER    | A Emotional Character Study of a Dentist And a Crocodile who must Meet a Sumo Wrestler in California                  |\n",
      "|      23 | ANACONDA CONFESSIONS | A Lacklusture Display of a Dentist And a Dentist who must Fight a Girl in Australia                                   |\n",
      "+---------+----------------------+-----------------------------------------------------------------------------------------------------------------------+\n"
     ]
    }
   ],
   "source": [
    "!mysql sakila -e \"select film_id, title, description from film where film_id between 3 and 23\""
   ]
  },
  {
   "cell_type": "code",
   "execution_count": 23,
   "id": "77c62aa1-c326-4107-b864-62d6cad2f5a8",
   "metadata": {},
   "outputs": [
    {
     "name": "stdout",
     "output_type": "stream",
     "text": [
      "+-----------+---------------------+-------------+----------+\n",
      "| rental_id | rental_date         | customer_id | staff_id |\n",
      "+-----------+---------------------+-------------+----------+\n",
      "|         1 | 2005-05-24 22:53:30 |         130 |        1 |\n",
      "|         2 | 2005-05-24 22:54:33 |         459 |        1 |\n",
      "|         3 | 2005-05-24 23:03:39 |         408 |        1 |\n",
      "|         4 | 2005-05-24 23:04:41 |         333 |        2 |\n",
      "|         5 | 2005-05-24 23:05:21 |         222 |        1 |\n",
      "|         6 | 2005-05-24 23:08:07 |         549 |        1 |\n",
      "|         7 | 2005-05-24 23:11:53 |         269 |        2 |\n",
      "|         8 | 2005-05-24 23:31:46 |         239 |        2 |\n",
      "|         9 | 2005-05-25 00:00:40 |         126 |        1 |\n",
      "|        10 | 2005-05-25 00:02:21 |         399 |        2 |\n",
      "|        11 | 2005-05-25 00:09:02 |         142 |        2 |\n",
      "|        12 | 2005-05-25 00:19:27 |         261 |        2 |\n",
      "|        13 | 2005-05-25 00:22:55 |         334 |        1 |\n",
      "|        14 | 2005-05-25 00:31:15 |         446 |        1 |\n",
      "|        15 | 2005-05-25 00:39:22 |         319 |        1 |\n",
      "|        16 | 2005-05-25 00:43:11 |         316 |        2 |\n",
      "|        17 | 2005-05-25 01:06:36 |         575 |        1 |\n",
      "|        18 | 2005-05-25 01:10:47 |          19 |        2 |\n",
      "|        19 | 2005-05-25 01:17:24 |         456 |        1 |\n",
      "|        20 | 2005-05-25 01:48:41 |         185 |        2 |\n",
      "+-----------+---------------------+-------------+----------+\n"
     ]
    }
   ],
   "source": [
    "!mysql sakila -e \"select rental_id, rental_date, customer_id, staff_id from rental where rental_id between 1 and 20\""
   ]
  },
  {
   "cell_type": "code",
   "execution_count": 32,
   "id": "81c753bc-1539-4f3b-bfec-0faffa440fc4",
   "metadata": {},
   "outputs": [
    {
     "name": "stdout",
     "output_type": "stream",
     "text": [
      "+---------+-------------+\n",
      "| film_id | category_id |\n",
      "+---------+-------------+\n",
      "|      19 |           1 |\n",
      "|      21 |           1 |\n",
      "|      29 |           1 |\n",
      "|      38 |           1 |\n",
      "|      56 |           1 |\n",
      "|      67 |           1 |\n",
      "|      97 |           1 |\n",
      "|     105 |           1 |\n",
      "|     111 |           1 |\n",
      "|     115 |           1 |\n",
      "|     126 |           1 |\n",
      "|     130 |           1 |\n",
      "|     162 |           1 |\n",
      "|     194 |           1 |\n",
      "|     205 |           1 |\n",
      "|     210 |           1 |\n",
      "|     212 |           1 |\n",
      "|     229 |           1 |\n",
      "|     250 |           1 |\n",
      "|     252 |           1 |\n",
      "|     253 |           1 |\n",
      "|     271 |           1 |\n",
      "|     287 |           1 |\n",
      "|     292 |           1 |\n",
      "|     303 |           1 |\n",
      "|     318 |           1 |\n",
      "|     327 |           1 |\n",
      "|     329 |           1 |\n",
      "|     360 |           1 |\n",
      "|     371 |           1 |\n",
      "|     375 |           1 |\n",
      "|     395 |           1 |\n",
      "|     417 |           1 |\n",
      "|     501 |           1 |\n",
      "|     511 |           1 |\n",
      "|     530 |           1 |\n",
      "|     542 |           1 |\n",
      "|     549 |           1 |\n",
      "|     574 |           1 |\n",
      "|     579 |           1 |\n",
      "|     586 |           1 |\n",
      "|     594 |           1 |\n",
      "|     659 |           1 |\n",
      "|     664 |           1 |\n",
      "|     697 |           1 |\n",
      "|     707 |           1 |\n",
      "|     717 |           1 |\n",
      "|     732 |           1 |\n",
      "|     748 |           1 |\n",
      "|     793 |           1 |\n",
      "|     794 |           1 |\n",
      "|     802 |           1 |\n",
      "|     823 |           1 |\n",
      "|     825 |           1 |\n",
      "|     838 |           1 |\n",
      "|     850 |           1 |\n",
      "|     869 |           1 |\n",
      "|     911 |           1 |\n",
      "|     915 |           1 |\n",
      "|     927 |           1 |\n",
      "|     964 |           1 |\n",
      "|     968 |           1 |\n",
      "|     982 |           1 |\n",
      "|     991 |           1 |\n",
      "|      18 |           2 |\n",
      "|      23 |           2 |\n",
      "|      36 |           2 |\n",
      "|      70 |           2 |\n",
      "|      78 |           2 |\n",
      "|      89 |           2 |\n",
      "|     118 |           2 |\n",
      "|     121 |           2 |\n",
      "|     134 |           2 |\n",
      "|     154 |           2 |\n",
      "|     160 |           2 |\n",
      "|     193 |           2 |\n",
      "|     208 |           2 |\n",
      "|     223 |           2 |\n",
      "|     239 |           2 |\n",
      "|     241 |           2 |\n",
      "|     243 |           2 |\n",
      "|     245 |           2 |\n",
      "|     259 |           2 |\n",
      "|     268 |           2 |\n",
      "|     300 |           2 |\n",
      "|     314 |           2 |\n",
      "|     325 |           2 |\n",
      "|     326 |           2 |\n",
      "|     330 |           2 |\n",
      "|     349 |           2 |\n",
      "|     355 |           2 |\n",
      "|     402 |           2 |\n",
      "|     430 |           2 |\n",
      "|     433 |           2 |\n",
      "|     456 |           2 |\n",
      "|     461 |           2 |\n",
      "|     464 |           2 |\n",
      "|     470 |           2 |\n",
      "|     489 |           2 |\n",
      "|     510 |           2 |\n",
      "|     541 |           2 |\n",
      "|     564 |           2 |\n",
      "|     569 |           2 |\n",
      "|     582 |           2 |\n",
      "|     583 |           2 |\n",
      "|     615 |           2 |\n",
      "|     644 |           2 |\n",
      "|     649 |           2 |\n",
      "|     651 |           2 |\n",
      "|     690 |           2 |\n",
      "|     692 |           2 |\n",
      "|     693 |           2 |\n",
      "|     696 |           2 |\n",
      "|     703 |           2 |\n",
      "|     743 |           2 |\n",
      "|     805 |           2 |\n",
      "|     816 |           2 |\n",
      "|     820 |           2 |\n",
      "|     849 |           2 |\n",
      "|     859 |           2 |\n",
      "|     865 |           2 |\n",
      "|     880 |           2 |\n",
      "|     886 |           2 |\n",
      "|     887 |           2 |\n",
      "|     892 |           2 |\n",
      "|     901 |           2 |\n",
      "|     916 |           2 |\n",
      "|     953 |           2 |\n",
      "|     963 |           2 |\n",
      "|     986 |           2 |\n",
      "|      48 |           3 |\n",
      "|      59 |           3 |\n",
      "|      66 |           3 |\n",
      "|      68 |           3 |\n",
      "|     110 |           3 |\n",
      "|     124 |           3 |\n",
      "|     149 |           3 |\n",
      "|     152 |           3 |\n",
      "|     157 |           3 |\n",
      "|     168 |           3 |\n",
      "|     191 |           3 |\n",
      "|     214 |           3 |\n",
      "|     238 |           3 |\n",
      "|     280 |           3 |\n",
      "|     304 |           3 |\n",
      "|     328 |           3 |\n",
      "|     343 |           3 |\n",
      "|     344 |           3 |\n",
      "|     354 |           3 |\n",
      "|     356 |           3 |\n",
      "|     370 |           3 |\n",
      "|     373 |           3 |\n",
      "|     392 |           3 |\n",
      "|     409 |           3 |\n",
      "|     423 |           3 |\n",
      "|     424 |           3 |\n",
      "|     450 |           3 |\n",
      "|     468 |           3 |\n",
      "|     485 |           3 |\n",
      "|     491 |           3 |\n",
      "|     505 |           3 |\n",
      "|     509 |           3 |\n",
      "|     515 |           3 |\n",
      "|     547 |           3 |\n",
      "|     553 |           3 |\n",
      "|     573 |           3 |\n",
      "|     588 |           3 |\n",
      "|     608 |           3 |\n",
      "|     626 |           3 |\n",
      "|     688 |           3 |\n",
      "|     735 |           3 |\n",
      "|     755 |           3 |\n",
      "|     761 |           3 |\n",
      "|     768 |           3 |\n",
      "|     786 |           3 |\n",
      "|     801 |           3 |\n",
      "|     833 |           3 |\n",
      "|     852 |           3 |\n",
      "|     853 |           3 |\n",
      "|     864 |           3 |\n",
      "|     873 |           3 |\n",
      "|     883 |           3 |\n",
      "|     889 |           3 |\n",
      "|     896 |           3 |\n",
      "|     918 |           3 |\n",
      "|     928 |           3 |\n",
      "|     955 |           3 |\n",
      "|     959 |           3 |\n",
      "|     993 |           3 |\n",
      "|     999 |           3 |\n",
      "|      14 |           4 |\n",
      "|      37 |           4 |\n",
      "|      60 |           4 |\n",
      "|      91 |           4 |\n",
      "|     116 |           4 |\n",
      "|     131 |           4 |\n",
      "|     166 |           4 |\n",
      "|     180 |           4 |\n",
      "|     184 |           4 |\n",
      "|     190 |           4 |\n",
      "|     196 |           4 |\n",
      "|     228 |           4 |\n",
      "|     249 |           4 |\n",
      "|     266 |           4 |\n",
      "|     297 |           4 |\n",
      "|     341 |           4 |\n",
      "|     346 |           4 |\n",
      "|     357 |           4 |\n",
      "|     358 |           4 |\n",
      "|     425 |           4 |\n",
      "|     432 |           4 |\n",
      "|     445 |           4 |\n",
      "|     469 |           4 |\n",
      "|     471 |           4 |\n",
      "|     480 |           4 |\n",
      "|     482 |           4 |\n",
      "|     484 |           4 |\n",
      "|     487 |           4 |\n",
      "|     512 |           4 |\n",
      "|     523 |           4 |\n",
      "|     525 |           4 |\n",
      "|     536 |           4 |\n",
      "|     537 |           4 |\n",
      "|     548 |           4 |\n",
      "|     554 |           4 |\n",
      "|     578 |           4 |\n",
      "|     611 |           4 |\n",
      "|     633 |           4 |\n",
      "|     652 |           4 |\n",
      "|     663 |           4 |\n",
      "|     694 |           4 |\n",
      "|     725 |           4 |\n",
      "|     731 |           4 |\n",
      "|     744 |           4 |\n",
      "|     808 |           4 |\n",
      "|     815 |           4 |\n",
      "|     828 |           4 |\n",
      "|     843 |           4 |\n",
      "|     862 |           4 |\n",
      "|     874 |           4 |\n",
      "|     891 |           4 |\n",
      "|     895 |           4 |\n",
      "|     899 |           4 |\n",
      "|     950 |           4 |\n",
      "|     951 |           4 |\n",
      "|     962 |           4 |\n",
      "|     970 |           4 |\n",
      "|       7 |           5 |\n",
      "|      28 |           5 |\n",
      "|      99 |           5 |\n",
      "|     119 |           5 |\n",
      "|     127 |           5 |\n",
      "|     159 |           5 |\n",
      "|     178 |           5 |\n",
      "|     182 |           5 |\n",
      "|     188 |           5 |\n",
      "|     202 |           5 |\n",
      "|     242 |           5 |\n",
      "|     247 |           5 |\n",
      "|     265 |           5 |\n",
      "|     276 |           5 |\n",
      "|     308 |           5 |\n",
      "|     317 |           5 |\n",
      "|     324 |           5 |\n",
      "|     332 |           5 |\n",
      "|     335 |           5 |\n",
      "|     365 |           5 |\n",
      "|     385 |           5 |\n",
      "|     388 |           5 |\n",
      "|     404 |           5 |\n",
      "|     410 |           5 |\n",
      "|     413 |           5 |\n",
      "|     443 |           5 |\n",
      "|     444 |           5 |\n",
      "|     478 |           5 |\n",
      "|     502 |           5 |\n",
      "|     522 |           5 |\n",
      "|     524 |           5 |\n",
      "|     529 |           5 |\n",
      "|     555 |           5 |\n",
      "|     568 |           5 |\n",
      "|     604 |           5 |\n",
      "|     613 |           5 |\n",
      "|     638 |           5 |\n",
      "|     657 |           5 |\n",
      "|     660 |           5 |\n",
      "|     672 |           5 |\n",
      "|     680 |           5 |\n",
      "|     704 |           5 |\n",
      "|     754 |           5 |\n",
      "|     756 |           5 |\n",
      "|     765 |           5 |\n",
      "|     774 |           5 |\n",
      "|     814 |           5 |\n",
      "|     837 |           5 |\n",
      "|     857 |           5 |\n",
      "|     858 |           5 |\n",
      "|     871 |           5 |\n",
      "|     905 |           5 |\n",
      "|     906 |           5 |\n",
      "|     932 |           5 |\n",
      "|     938 |           5 |\n",
      "|     939 |           5 |\n",
      "|     978 |           5 |\n",
      "|    1000 |           5 |\n",
      "+---------+-------------+\n"
     ]
    }
   ],
   "source": [
    "!mysql sakila -e \"select film_id, category_id from film_category where category_id between 1 and 5\""
   ]
  },
  {
   "cell_type": "code",
   "execution_count": null,
   "id": "0ee697ce-b4df-485c-8bc2-4872f795d910",
   "metadata": {},
   "outputs": [],
   "source": [
    "#From the table city, ordering cities whose city id is <= 7 in alphabetical order "
   ]
  },
  {
   "cell_type": "code",
   "execution_count": 37,
   "id": "de68f9c5-cfed-497b-a6b3-cf2632ce0c2a",
   "metadata": {},
   "outputs": [
    {
     "name": "stdout",
     "output_type": "stream",
     "text": [
      "+---------+--------------------+\n",
      "| city_id | city               |\n",
      "+---------+--------------------+\n",
      "|       1 | A Corua (La Corua) |\n",
      "|       2 | Abha               |\n",
      "|       3 | Abu Dhabi          |\n",
      "|       4 | Acua               |\n",
      "|       5 | Adana              |\n",
      "|       6 | Addis Abeba        |\n",
      "|       7 | Aden               |\n",
      "+---------+--------------------+\n"
     ]
    }
   ],
   "source": [
    "!mysql sakila -e \"select city_id, city from city where city_id <= 7 order by city asc\""
   ]
  },
  {
   "cell_type": "code",
   "execution_count": null,
   "id": "4460a82c-2f0a-46e5-a5e8-21e445450450",
   "metadata": {},
   "outputs": [],
   "source": [
    "# inserting a new row at the end of the category table, with the cateogry id 21, whose name is alien and with its current last update"
   ]
  },
  {
   "cell_type": "code",
   "execution_count": 68,
   "id": "c7f39936-087b-4e20-8daf-831b4c4654a6",
   "metadata": {},
   "outputs": [],
   "source": [
    "!mysql sakila -e \"insert into  category(category_id, name, last_update) values (21, 'alien', '2006-02-15 04:46:27')\" "
   ]
  },
  {
   "cell_type": "code",
   "execution_count": null,
   "id": "719171f3-7fa9-4b6c-8526-ccd87d85c062",
   "metadata": {},
   "outputs": [],
   "source": [
    "# checking that a new row was actually inserted"
   ]
  },
  {
   "cell_type": "code",
   "execution_count": 69,
   "id": "e6148a06-b79b-49df-89eb-e27010f5b5c5",
   "metadata": {},
   "outputs": [
    {
     "name": "stdout",
     "output_type": "stream",
     "text": [
      "+----------+\n",
      "| count(*) |\n",
      "+----------+\n",
      "|       21 |\n",
      "+----------+\n"
     ]
    }
   ],
   "source": [
    "!mysql sakila -e \"select count(*) from category\""
   ]
  },
  {
   "cell_type": "code",
   "execution_count": 75,
   "id": "8a207176-8bae-4de5-ad4e-beb75d5cab3a",
   "metadata": {},
   "outputs": [],
   "source": [
    "# updated the category called drama into name being \"intense\" instead"
   ]
  },
  {
   "cell_type": "code",
   "execution_count": 80,
   "id": "9de4f14c-e098-43a2-8503-2f45a8d3f23c",
   "metadata": {},
   "outputs": [],
   "source": [
    "!mysql sakila -e \"update category set name = 'intense' where category_id = 7\" "
   ]
  },
  {
   "cell_type": "code",
   "execution_count": null,
   "id": "c902211d-2189-4739-8666-7e14122192ba",
   "metadata": {},
   "outputs": [],
   "source": [
    "#checking that the category name updated to intense"
   ]
  },
  {
   "cell_type": "code",
   "execution_count": 81,
   "id": "cbd2eed7-c179-4588-b306-936540060a17",
   "metadata": {},
   "outputs": [
    {
     "name": "stdout",
     "output_type": "stream",
     "text": [
      "+-------------+---------+\n",
      "| category_id | name    |\n",
      "+-------------+---------+\n",
      "|           7 | intense |\n",
      "|           8 | Family  |\n",
      "|           9 | Foreign |\n",
      "|          10 | Games   |\n",
      "|          11 | Horror  |\n",
      "|          12 | Music   |\n",
      "|          13 | New     |\n",
      "|          14 | Sci-Fi  |\n",
      "|          15 | Sports  |\n",
      "|          16 | Travel  |\n",
      "|          17 | alien   |\n",
      "|          18 | alien   |\n",
      "|          21 | alien   |\n",
      "|          45 | alien   |\n",
      "|          50 | alien   |\n",
      "+-------------+---------+\n"
     ]
    }
   ],
   "source": [
    "!mysql sakila -e \"select category_id, name from category where category_id >= 7\""
   ]
  },
  {
   "cell_type": "code",
   "execution_count": null,
   "id": "f3cabdac-9edf-47e9-8b6c-bd3634157954",
   "metadata": {},
   "outputs": [],
   "source": [
    "# deleted all the rows in the table film whose rating is null"
   ]
  },
  {
   "cell_type": "code",
   "execution_count": 93,
   "id": "3b3035ca-8b9d-4a7e-9fde-ef176522eab5",
   "metadata": {},
   "outputs": [],
   "source": [
    "!mysql sakila -e \"delete from film where rating is null\""
   ]
  }
 ],
 "metadata": {
  "environment": {
   "kernel": "python3",
   "name": "common-cpu.m108",
   "type": "gcloud",
   "uri": "gcr.io/deeplearning-platform-release/base-cpu:m108"
  },
  "kernelspec": {
   "display_name": "Python 3",
   "language": "python",
   "name": "python3"
  },
  "language_info": {
   "codemirror_mode": {
    "name": "ipython",
    "version": 3
   },
   "file_extension": ".py",
   "mimetype": "text/x-python",
   "name": "python",
   "nbconvert_exporter": "python",
   "pygments_lexer": "ipython3",
   "version": "3.7.12"
  }
 },
 "nbformat": 4,
 "nbformat_minor": 5
}
