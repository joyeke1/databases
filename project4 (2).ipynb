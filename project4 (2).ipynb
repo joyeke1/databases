{
 "cells": [
  {
   "cell_type": "code",
   "execution_count": 1,
   "id": "8fff5c49-64bc-46e1-b50f-e6884b8277a5",
   "metadata": {},
   "outputs": [],
   "source": [
    "# Q1: select count(*) from products;"
   ]
  },
  {
   "cell_type": "code",
   "execution_count": 16,
   "id": "065debdc-63b9-4eed-896f-3e60c208d39c",
   "metadata": {},
   "outputs": [
    {
     "name": "stdout",
     "output_type": "stream",
     "text": [
      "309370\n"
     ]
    }
   ],
   "source": [
    "!mongo open_food --quiet --eval 'db.products.count()'"
   ]
  },
  {
   "cell_type": "code",
   "execution_count": 1,
   "id": "c3d5fd4d-91af-4bc5-8c6f-8d6fc39a1ec8",
   "metadata": {},
   "outputs": [],
   "source": [
    "# Q2:select _id, product_name from products where categories = 'Snacks, Sweet snacks, Confectioneries, Candies, Chews';"
   ]
  },
  {
   "cell_type": "code",
   "execution_count": 40,
   "id": "4099038c-d16c-4e6c-9eb9-332756f6dd4f",
   "metadata": {
    "tags": []
   },
   "outputs": [
    {
     "name": "stdout",
     "output_type": "stream",
     "text": [
      "env: selection={\"Categories\": \"Sweet, Sweet snacks, Confectioneries, Candies, Chews\"}\n",
      "env: projection={\"product_name\": 1, _id: 0}\n"
     ]
    }
   ],
   "source": [
    "%env selection = {\"Categories\": \"Sweet, Sweet snacks, Confectioneries, Candies, Chews\"}\n",
    "%env projection = {\"product_name\": 1, _id: 0}\n",
    "!mongo open_food --quiet --eval \"db.Products.find(${selection}, ${projection})\""
   ]
  },
  {
   "cell_type": "code",
   "execution_count": 7,
   "id": "2a115149-7dcb-411a-9e6f-b7583c3d4c36",
   "metadata": {},
   "outputs": [],
   "source": [
    "#Q3. select _id, code, product_name from products where last_modified_t >= 1601856000;"
   ]
  },
  {
   "cell_type": "code",
   "execution_count": 59,
   "id": "77f94beb-2050-4a23-9d20-b23b9a138e2f",
   "metadata": {
    "tags": []
   },
   "outputs": [
    {
     "name": "stdout",
     "output_type": "stream",
     "text": [
      "env: selection={\"Last_modified_t\": {\"$gte\": 1601856000} }\n",
      "env: projection={\"code\": 1, \"product_name\": 1, \"_id\": 0}\n"
     ]
    }
   ],
   "source": [
    "%env selection = {\"Last_modified_t\": {\"$gte\": 1601856000} }\n",
    "%env projection = {\"code\": 1, \"product_name\": 1, \"_id\": 0}\n",
    "!mongo open_food --quiet --eval \"db.Products.find(${selection}, ${projection}).pretty()\""
   ]
  },
  {
   "cell_type": "code",
   "execution_count": 8,
   "id": "57b45dba-cb9a-4b24-96f1-2598f2da8be9",
   "metadata": {},
   "outputs": [],
   "source": [
    "#Q4. select count(*) from products where packaging = 'Plastic';"
   ]
  },
  {
   "cell_type": "code",
   "execution_count": 61,
   "id": "f31fc47a-4e0f-4886-acb8-59edcd1855bd",
   "metadata": {},
   "outputs": [
    {
     "name": "stdout",
     "output_type": "stream",
     "text": [
      "env: selection={\"packaging\": \"Plastic\"}\n",
      "/bin/bash: db.Products.countDocuments(${}).pretty(): bad substitution\n"
     ]
    }
   ],
   "source": [
    "%env selection = {\"packaging\": \"Plastic\"}\n",
    "!mongo open_food --quiet --eval \"db.Products.countDocuments(${}).pretty()\""
   ]
  },
  {
   "cell_type": "code",
   "execution_count": 9,
   "id": "d82db3af-75e4-4886-8c74-9049d98de06a",
   "metadata": {},
   "outputs": [],
   "source": [
    "#Q5. select _id, code, creator, product_name, brands from products where manufacturing_places = 'Austin, TX' and stores = 'Whole Foods';"
   ]
  },
  {
   "cell_type": "code",
   "execution_count": 63,
   "id": "305f3522-1f35-4cd6-9fd5-dd5c9c023f29",
   "metadata": {},
   "outputs": [
    {
     "name": "stdout",
     "output_type": "stream",
     "text": [
      "env: selection={\"$and\":[{\"manufacturing_places\": \"Austin, TX\"}, {\"stores\": \"Whole Foods\"}]}\n",
      "env: projection={\"code\": 1, \"creator\": 1, \"product_name\": 1, \"brands\": 1, \"_id\": 0}\n"
     ]
    }
   ],
   "source": [
    "%env selection = {\"$and\":[{\"manufacturing_places\": \"Austin, TX\"}, {\"stores\": \"Whole Foods\"}]}\n",
    "%env projection = {\"code\": 1, \"creator\": 1, \"product_name\": 1, \"brands\": 1, \"_id\": 0}\n",
    "!mongo open_food --quiet --eval \"db.Products.find(${selection}, ${projection}).pretty()\""
   ]
  },
  {
   "cell_type": "code",
   "execution_count": 10,
   "id": "dd1aa9ff-9cd0-4a2d-870e-117685eb7422",
   "metadata": {},
   "outputs": [],
   "source": [
    "#Q6. select _id, product_name, brands from products where brands in (\"m&m's\", \"mars\", \"Mars\", \"oreo\", \"starburst\") order by product_name limit 5;"
   ]
  },
  {
   "cell_type": "code",
   "execution_count": 64,
   "id": "f3446824-2c70-47c0-89d7-df1767b67189",
   "metadata": {},
   "outputs": [
    {
     "name": "stdout",
     "output_type": "stream",
     "text": [
      "env: selection={\"brands\": \"$in\": \"m&m's\", \"mars\", \"Mars\", \"oreo\", \"starburst\"}\n",
      "env: projection={\"_id\": 1, \"product_name\": 1, \"brands\": 1}\n",
      "/bin/bash: db.products.find({'brands': {'$in': ['m&ms', 'mars', 'Mars', 'oreo', 'starburst']}}, {'_id': 1, 'product_name': 1, 'brands': 1}).sort(${'product_name':1}).limit(5).pretty(): bad substitution\n"
     ]
    }
   ],
   "source": [
    "%env selection = {\"brands\": \"$in\": \"m&m's\", \"mars\", \"Mars\", \"oreo\", \"starburst\"}\n",
    "%env projection = {\"_id\": 1, \"product_name\": 1, \"brands\": 1}\n",
    "!mongo open_food --quiet --eval \"db.products.find({'brands': {'$in': ['m&ms', 'mars', 'Mars', 'oreo', 'starburst']}}, {'_id': 1, 'product_name': 1, 'brands': 1}).sort(${'product_name':1}).limit(5)\""
   ]
  },
  {
   "cell_type": "code",
   "execution_count": 58,
   "id": "772d02cf-c59a-4c30-a9e7-70f7daa76758",
   "metadata": {},
   "outputs": [],
   "source": [
    "#Q7. select _id, product_name, countries, ingredients.text, ingredients.rank, nutriments.carbohydrates_serving from products where nutriments.carbohydrates_serving between 18 and 25 order by product_name ASC limit 5;"
   ]
  },
  {
   "cell_type": "code",
   "execution_count": 29,
   "id": "153257b2-e71b-4ac3-a769-5f45b953aa32",
   "metadata": {},
   "outputs": [
    {
     "name": "stdout",
     "output_type": "stream",
     "text": [
      "env: selection={\"nutriments.carbohydrates_serving\": {\"$gte\": 18,\"$lte\": 25}}\n",
      "env: projection={\"product_name\": 1, \"countries\": 1, \"ingredients.text\": 1, \"ingredients.rank\": 1, \"nutriments.carbohydrates_serving\": 1, \"_id\": 0}\n"
     ]
    }
   ],
   "source": [
    "%env selection = {\"nutriments.carbohydrates_serving\": {\"$gte\": 18,\"$lte\": 25}}\n",
    "%env projection = {\"product_name\": 1, \"countries\": 1, \"ingredients.text\": 1, \"ingredients.rank\": 1, \"nutriments.carbohydrates_serving\": 1, \"_id\": 0}\n",
    "!mongo open_food --quiet --eval \"db.Products.find(${selection}, ${projection}).sort({product_name: 1}).limit(5).pretty()\""
   ]
  },
  {
   "cell_type": "code",
   "execution_count": 74,
   "id": "a46df90c-72e6-42eb-afee-eb4c7b3f96e7",
   "metadata": {},
   "outputs": [],
   "source": [
    "#Insert a new document into the products collection. The document must have a minimum of 5 attributes with non-NULL values. Read back the document you just created."
   ]
  },
  {
   "cell_type": "code",
   "execution_count": 54,
   "id": "ab5df0d2-56bd-4ebb-93ed-39c747a7c4d4",
   "metadata": {},
   "outputs": [
    {
     "name": "stdout",
     "output_type": "stream",
     "text": [
      "env: doca={\"product_name\": \"fruty\", \"brand\": \"candy\", \"color\": \"purple\" , \"price\": 2.99, \"amount\": 15}\n",
      "MongoDB shell version v5.0.18\n",
      "connecting to: mongodb://127.0.0.1:27017/open_food?compressors=disabled&gssapiServiceName=mongodb\n",
      "Implicit session: session { \"id\" : UUID(\"722fdae6-629c-4e8d-bf7d-ae417f26c298\") }\n",
      "MongoDB server version: 5.0.18\n",
      "{\n",
      "\t\"acknowledged\" : true,\n",
      "\t\"insertedId\" : ObjectId(\"64a456efbe388ba8faee2662\")\n",
      "}\n",
      "{\"t\":{\"$date\":\"2023-07-04T17:29:19.321Z\"},\"s\":\"E\",  \"c\":\"-\",        \"id\":22779,   \"ctx\":\"main\",\"msg\":\"file [{filename}] doesn't exist\",\"attr\":{\"filename\":\"==quiet\"}}\n",
      "failed to load: ==quiet\n",
      "exiting with code -3\n"
     ]
    }
   ],
   "source": [
    "%env doca = {\"product_name\": \"fruty\", \"brand\": \"candy\", \"color\": \"purple\" , \"price\": 2.99, \"amount\": 15}\n",
    "!mongo open_food ==quiet --eval \"db.Products.insertOne(${doca})\""
   ]
  },
  {
   "cell_type": "code",
   "execution_count": 57,
   "id": "a3eeaa14-9ae7-4010-bdba-83b82aa18632",
   "metadata": {},
   "outputs": [
    {
     "name": "stdout",
     "output_type": "stream",
     "text": [
      "env: selection={\"_id\": ObjectId(\"64a456efbe388ba8faee2662\")}\n",
      "MongoDB shell version v5.0.18\n",
      "connecting to: mongodb://127.0.0.1:27017/open_food?compressors=disabled&gssapiServiceName=mongodb\n",
      "Implicit session: session { \"id\" : UUID(\"61c3d33a-dd8d-424a-bcfd-8b82b1c486fd\") }\n",
      "MongoDB server version: 5.0.18\n",
      "{\n",
      "\t\"_id\" : ObjectId(\"64a456efbe388ba8faee2662\"),\n",
      "\t\"product_name\" : \"fruty\",\n",
      "\t\"brand\" : \"candy\",\n",
      "\t\"color\" : \"purple\",\n",
      "\t\"price\" : 2.99,\n",
      "\t\"amount\" : 15\n",
      "}\n",
      "{\"t\":{\"$date\":\"2023-07-04T17:33:01.703Z\"},\"s\":\"E\",  \"c\":\"-\",        \"id\":22779,   \"ctx\":\"main\",\"msg\":\"file [{filename}] doesn't exist\",\"attr\":{\"filename\":\"==quiet\"}}\n",
      "failed to load: ==quiet\n",
      "exiting with code -3\n"
     ]
    }
   ],
   "source": [
    "%env selection = {\"_id\": ObjectId(\"64a456efbe388ba8faee2662\")}\n",
    "!mongo open_food ==quiet --eval \"db.Products.find(${selection}).pretty()\""
   ]
  },
  {
   "cell_type": "code",
   "execution_count": null,
   "id": "664f411b-9e9d-429b-b926-1f74513414c9",
   "metadata": {},
   "outputs": [],
   "source": [
    "#6 Update the document you created in the previous step and then read it back."
   ]
  },
  {
   "cell_type": "code",
   "execution_count": 109,
   "id": "cedd8257-22c6-4170-98ae-c9e17f94ae73",
   "metadata": {},
   "outputs": [
    {
     "name": "stdout",
     "output_type": "stream",
     "text": [
      "env: selection={\"brand\": \"candy\"}\n",
      "MongoDB shell version v5.0.18\n",
      "connecting to: mongodb://127.0.0.1:27017/open_food?compressors=disabled&gssapiServiceName=mongodb\n",
      "Implicit session: session { \"id\" : UUID(\"faa7ba46-61e6-40c7-ba40-7aee48741597\") }\n",
      "MongoDB server version: 5.0.18\n",
      "{ \"acknowledged\" : true, \"matchedCount\" : 1, \"modifiedCount\" : 1 }\n",
      "{\"t\":{\"$date\":\"2023-07-04T17:54:16.500Z\"},\"s\":\"E\",  \"c\":\"-\",        \"id\":22779,   \"ctx\":\"main\",\"msg\":\"file [{filename}] doesn't exist\",\"attr\":{\"filename\":\"==quiet\"}}\n",
      "failed to load: ==quiet\n",
      "exiting with code -3\n"
     ]
    }
   ],
   "source": [
    "%env selection = {\"brand\": \"candy\"}\n",
    "!mongo open_food ==quiet --eval 'db.Products.updateOne({\"brand\": \"candy\"}, {\"$set\": {\"brand\": \"shoes\"}})'"
   ]
  },
  {
   "cell_type": "code",
   "execution_count": 1,
   "id": "c121bce4-3006-430a-9ca2-4e216be70025",
   "metadata": {},
   "outputs": [
    {
     "name": "stdout",
     "output_type": "stream",
     "text": [
      "env: selection={\"_id\": ObjectId(\"64a456efbe388ba8faee2662\")}\n",
      "MongoDB shell version v5.0.18\n",
      "connecting to: mongodb://127.0.0.1:27017/open_food?compressors=disabled&gssapiServiceName=mongodb\n",
      "Implicit session: session { \"id\" : UUID(\"0c0fa491-06d6-4ae4-8d9f-e617f3c22093\") }\n",
      "MongoDB server version: 5.0.18\n",
      "{\"t\":{\"$date\":\"2023-07-04T23:11:18.178Z\"},\"s\":\"E\",  \"c\":\"-\",        \"id\":22779,   \"ctx\":\"main\",\"msg\":\"file [{filename}] doesn't exist\",\"attr\":{\"filename\":\"==quiet\"}}\n",
      "failed to load: ==quiet\n",
      "exiting with code -3\n"
     ]
    }
   ],
   "source": [
    "%env selection = {\"_id\": ObjectId(\"64a456efbe388ba8faee2662\")}\n",
    "!mongo open_food ==quiet --eval \"db.Products.find(${selection}).pretty()\""
   ]
  },
  {
   "cell_type": "code",
   "execution_count": 75,
   "id": "c479af7f-b1b4-4135-b3e1-fbcc2baa2631",
   "metadata": {},
   "outputs": [],
   "source": [
    "#7. Delete the document you updated in the previous step and then query the collection to verify that it’s been deleted."
   ]
  },
  {
   "cell_type": "code",
   "execution_count": 3,
   "id": "c99d5059-1526-440c-a873-b054863ae02b",
   "metadata": {},
   "outputs": [
    {
     "name": "stdout",
     "output_type": "stream",
     "text": [
      "env: selection={\"brand\": \"candy\"}\n",
      "{ \"acknowledged\" : true, \"deletedCount\" : 0 }\n"
     ]
    }
   ],
   "source": [
    "%env selection = {\"brand\": \"candy\"}\n",
    "!mongo open_food --quiet --eval 'db.Products.deleteOne({\"brand\" : \"shoes\"})'"
   ]
  },
  {
   "cell_type": "code",
   "execution_count": 4,
   "id": "a667268d-de79-40d3-b262-d0d7eb8c2dec",
   "metadata": {},
   "outputs": [
    {
     "name": "stdout",
     "output_type": "stream",
     "text": [
      "env: selection={\"_id\": ObjectId(\"64a456efbe388ba8faee2662\")}\n"
     ]
    }
   ],
   "source": [
    "%env selection = {\"_id\": ObjectId(\"64a456efbe388ba8faee2662\")}\n",
    "!mongo open_food --quiet --eval \"db.Products.find(${selection}).pretty()\""
   ]
  },
  {
   "cell_type": "code",
   "execution_count": null,
   "id": "3c986235-d658-4f4d-9759-7e2fdd3c1c7c",
   "metadata": {},
   "outputs": [],
   "source": [
    "#DOC B CREATION"
   ]
  },
  {
   "cell_type": "code",
   "execution_count": 6,
   "id": "15c45b34-01ca-4f34-8e90-c31a892e4145",
   "metadata": {},
   "outputs": [
    {
     "name": "stdout",
     "output_type": "stream",
     "text": [
      "env: docb={\"product_name\": \"fruty\", \"brand\": \"candy\", \"color\": \"purple\" , \"price\": 2.99, \"amount\": 15}\n",
      "MongoDB shell version v5.0.18\n",
      "connecting to: mongodb://127.0.0.1:27017/open_food?compressors=disabled&gssapiServiceName=mongodb\n",
      "Implicit session: session { \"id\" : UUID(\"275d3b21-cf37-473c-844f-650d8853b6c0\") }\n",
      "MongoDB server version: 5.0.18\n",
      "{\n",
      "\t\"acknowledged\" : true,\n",
      "\t\"insertedId\" : ObjectId(\"64a4a8d1c27b3edfa1bf6ce7\")\n",
      "}\n",
      "{\"t\":{\"$date\":\"2023-07-04T23:18:41.262Z\"},\"s\":\"E\",  \"c\":\"-\",        \"id\":22779,   \"ctx\":\"main\",\"msg\":\"file [{filename}] doesn't exist\",\"attr\":{\"filename\":\"==quiet\"}}\n",
      "failed to load: ==quiet\n",
      "exiting with code -3\n"
     ]
    }
   ],
   "source": [
    "%env docb = {\"product_name\": \"fruty\", \"brand\": \"candy\", \"color\": \"purple\" , \"price\": 2.99, \"amount\": 15}\n",
    "!mongo open_food ==quiet --eval \"db.Products.insertOne(${docb})\""
   ]
  },
  {
   "cell_type": "code",
   "execution_count": null,
   "id": "f573c5c6-83eb-4e22-8a3d-9b4b5b48d5b5",
   "metadata": {},
   "outputs": [],
   "source": [
    "#reading back document"
   ]
  },
  {
   "cell_type": "code",
   "execution_count": 7,
   "id": "8ba0a012-1110-4e8b-89f3-32fa4e1fd3dd",
   "metadata": {},
   "outputs": [
    {
     "name": "stdout",
     "output_type": "stream",
     "text": [
      "env: selection={\"_id\": ObjectId(\"64a4a8d1c27b3edfa1bf6ce7\")}\n",
      "MongoDB shell version v5.0.18\n",
      "connecting to: mongodb://127.0.0.1:27017/open_food?compressors=disabled&gssapiServiceName=mongodb\n",
      "Implicit session: session { \"id\" : UUID(\"f852494b-235d-49ca-a9e8-4cf7262f8d81\") }\n",
      "MongoDB server version: 5.0.18\n",
      "{\n",
      "\t\"_id\" : ObjectId(\"64a4a8d1c27b3edfa1bf6ce7\"),\n",
      "\t\"product_name\" : \"fruty\",\n",
      "\t\"brand\" : \"candy\",\n",
      "\t\"color\" : \"purple\",\n",
      "\t\"price\" : 2.99,\n",
      "\t\"amount\" : 15\n",
      "}\n",
      "{\"t\":{\"$date\":\"2023-07-04T23:19:43.740Z\"},\"s\":\"E\",  \"c\":\"-\",        \"id\":22779,   \"ctx\":\"main\",\"msg\":\"file [{filename}] doesn't exist\",\"attr\":{\"filename\":\"==quiet\"}}\n",
      "failed to load: ==quiet\n",
      "exiting with code -3\n"
     ]
    }
   ],
   "source": [
    "%env selection = {\"_id\": ObjectId(\"64a4a8d1c27b3edfa1bf6ce7\")}\n",
    "!mongo open_food ==quiet --eval \"db.Products.find(${selection}).pretty()\""
   ]
  },
  {
   "cell_type": "code",
   "execution_count": null,
   "id": "2a5c0d0e-a33f-4f45-8d87-0beb922b4525",
   "metadata": {},
   "outputs": [],
   "source": [
    "#update DOC B"
   ]
  },
  {
   "cell_type": "code",
   "execution_count": 8,
   "id": "3411db2b-3b01-450d-9f8a-723f00251ed1",
   "metadata": {},
   "outputs": [
    {
     "name": "stdout",
     "output_type": "stream",
     "text": [
      "env: selection={\"brand\": \"candy\"}\n",
      "MongoDB shell version v5.0.18\n",
      "connecting to: mongodb://127.0.0.1:27017/open_food?compressors=disabled&gssapiServiceName=mongodb\n",
      "Implicit session: session { \"id\" : UUID(\"e789f2b6-8ddd-4bb0-84b6-71b4f4425564\") }\n",
      "MongoDB server version: 5.0.18\n",
      "{ \"acknowledged\" : true, \"matchedCount\" : 1, \"modifiedCount\" : 1 }\n",
      "{\"t\":{\"$date\":\"2023-07-04T23:20:32.805Z\"},\"s\":\"E\",  \"c\":\"-\",        \"id\":22779,   \"ctx\":\"main\",\"msg\":\"file [{filename}] doesn't exist\",\"attr\":{\"filename\":\"==quiet\"}}\n",
      "failed to load: ==quiet\n",
      "exiting with code -3\n"
     ]
    }
   ],
   "source": [
    "%env selection = {\"brand\": \"candy\"}\n",
    "!mongo open_food ==quiet --eval 'db.Products.updateOne({\"brand\": \"candy\"}, {\"$set\": {\"brand\": \"shoes\"}})'"
   ]
  },
  {
   "cell_type": "code",
   "execution_count": 9,
   "id": "15c0fe69-1980-409e-aeff-0fe1a81cbaf1",
   "metadata": {},
   "outputs": [
    {
     "name": "stdout",
     "output_type": "stream",
     "text": [
      "env: selection={\"_id\": ObjectId(\"64a4a8d1c27b3edfa1bf6ce7\")}\n",
      "MongoDB shell version v5.0.18\n",
      "connecting to: mongodb://127.0.0.1:27017/open_food?compressors=disabled&gssapiServiceName=mongodb\n",
      "Implicit session: session { \"id\" : UUID(\"267566a9-2ff0-4e44-aa62-94aa5249bcd8\") }\n",
      "MongoDB server version: 5.0.18\n",
      "{\n",
      "\t\"_id\" : ObjectId(\"64a4a8d1c27b3edfa1bf6ce7\"),\n",
      "\t\"product_name\" : \"fruty\",\n",
      "\t\"brand\" : \"shoes\",\n",
      "\t\"color\" : \"purple\",\n",
      "\t\"price\" : 2.99,\n",
      "\t\"amount\" : 15\n",
      "}\n",
      "{\"t\":{\"$date\":\"2023-07-04T23:21:11.967Z\"},\"s\":\"E\",  \"c\":\"-\",        \"id\":22779,   \"ctx\":\"main\",\"msg\":\"file [{filename}] doesn't exist\",\"attr\":{\"filename\":\"==quiet\"}}\n",
      "failed to load: ==quiet\n",
      "exiting with code -3\n"
     ]
    }
   ],
   "source": [
    "%env selection = {\"_id\": ObjectId(\"64a4a8d1c27b3edfa1bf6ce7\")}\n",
    "!mongo open_food ==quiet --eval \"db.Products.find(${selection}).pretty()\""
   ]
  },
  {
   "cell_type": "code",
   "execution_count": null,
   "id": "0ed0e152-9579-41d3-85b9-72594861153d",
   "metadata": {},
   "outputs": [],
   "source": [
    "#DELETE DOC B BRAND : We created another document to see the issue with our delete statement."
   ]
  },
  {
   "cell_type": "code",
   "execution_count": 12,
   "id": "dc0801b2-b735-441a-8e8b-b96cce664bc6",
   "metadata": {},
   "outputs": [
    {
     "name": "stdout",
     "output_type": "stream",
     "text": [
      "env: selection={\"brand\": \"candy\"}\n",
      "{ \"acknowledged\" : true, \"deletedCount\" : 0 }\n"
     ]
    }
   ],
   "source": [
    "%env selection = {\"brand\": \"candy\"}\n",
    "!mongo open_food --quiet --eval 'db.Products.deleteOne({\"brand\" : \"shoes\"})'"
   ]
  },
  {
   "cell_type": "code",
   "execution_count": 15,
   "id": "4d0f1eda-c63a-4fe0-9d72-69b8c3046672",
   "metadata": {},
   "outputs": [
    {
     "name": "stdout",
     "output_type": "stream",
     "text": [
      "env: selection={\"_id\": ObjectId(\"64a4a8d1c27b3edfa1bf6ce7\")}\n"
     ]
    }
   ],
   "source": [
    "%env selection = {\"_id\": ObjectId(\"64a4a8d1c27b3edfa1bf6ce7\")}\n",
    "!mongo open_food --quiet --eval \"db.Products.find(${selection}).pretty()\""
   ]
  },
  {
   "cell_type": "code",
   "execution_count": null,
   "id": "2031c2e4-99df-48c8-a6fe-e69be6f7353d",
   "metadata": {},
   "outputs": [],
   "source": []
  }
 ],
 "metadata": {
  "environment": {
   "kernel": "python3",
   "name": "common-cpu.m108",
   "type": "gcloud",
   "uri": "gcr.io/deeplearning-platform-release/base-cpu:m108"
  },
  "kernelspec": {
   "display_name": "Python 3",
   "language": "python",
   "name": "python3"
  },
  "language_info": {
   "codemirror_mode": {
    "name": "ipython",
    "version": 3
   },
   "file_extension": ".py",
   "mimetype": "text/x-python",
   "name": "python",
   "nbconvert_exporter": "python",
   "pygments_lexer": "ipython3",
   "version": "3.7.12"
  }
 },
 "nbformat": 4,
 "nbformat_minor": 5
}
